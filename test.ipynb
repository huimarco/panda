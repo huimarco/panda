{
 "cells": [
  {
   "cell_type": "markdown",
   "metadata": {},
   "source": [
    "## Convert PDF to string"
   ]
  },
  {
   "cell_type": "code",
   "execution_count": 1,
   "metadata": {},
   "outputs": [],
   "source": [
    "import pymupdf"
   ]
  },
  {
   "cell_type": "code",
   "execution_count": 2,
   "metadata": {},
   "outputs": [],
   "source": [
    "def convert_pdf_to_text(filepath, keyword='holdings'):\n",
    "    pdf_document = pymupdf.open(filepath)\n",
    "    text = ''\n",
    "\n",
    "    for page in pdf_document:\n",
    "        page_text = page.get_text()\n",
    "        if keyword.lower() in page_text.lower():\n",
    "            text += page_text\n",
    "\n",
    "    pdf_document.close()\n",
    "\n",
    "    return text"
   ]
  },
  {
   "cell_type": "markdown",
   "metadata": {},
   "source": [
    "## Extract holdings using AI"
   ]
  },
  {
   "cell_type": "markdown",
   "metadata": {},
   "source": [
    "##### System prompt & user text"
   ]
  },
  {
   "cell_type": "code",
   "execution_count": 5,
   "metadata": {},
   "outputs": [],
   "source": [
    "system_prompt = \"\"\"\n",
    "You are a financial advisor given a string of text from brokerage statements. Please interpret it to identify individual positions in each account. \n",
    "If you cannot identify a specific attribute, fill it with 'NA'.\n",
    "\n",
    "Example input:\n",
    "'7 of 28\\nINVESTMENT REPORT \\nJuly 1 – July 31, 2015\\u2009\\u2002\\u2002\\nHoldings (continued)\\u2002\\nDescription\\nQuantity\\nPrice \\nPer Unit\\nEnding \\nMarket Value\\nTotal \\nCost Basis\\nUnrealized \\nGain/Loss\\nEst. Annual \\nIncome (EAI)\\nEst. Yield \\n(EY)\\n25.00\\n525.31\\n$13,132.75 \\n$9,350.12 \\nc\\n$3,782.63 \\n$304.68 \\n2.32%\\nCommon Stocks \\nAPPLE INC (AAPL) \\nAMERCO COM (UHAL)\\n30.00\\n203.15A\\n 6,094.50 \\n 4,149.75 \\nc\\n 1,944.75 \\n—\\nTotal Common Stock (24% of account holdings)\\n $5,517.25 \\n$-1,011.12 \\n$6,528.37 \\n$304.68 \\nAccount 111-111111 \\nJohn W. Doe - Individual TOD\\n*** SAMPLE STATEMENT ***\\nFor informational purposes only\\n$304.68 \\n'\n",
    "\n",
    "Example output (follow the format exactly and do not collect extra metrics):\n",
    "{\n",
    "    \"statement_date\":2015-07-31,\n",
    "    \"accounts\":[\n",
    "        {\n",
    "            \"account_number\":\"111-111111\",\n",
    "            \"holdings\": [\n",
    "                {\n",
    "                \"description\": \"APPLE INC\",\n",
    "                \"symbol\": \"AAPL\",\n",
    "                \"quantity\": 25.00,\n",
    "                \"market_value\": 13132.75,\n",
    "                \"total_cost_basis\": 9350.12\n",
    "                },\n",
    "                {\n",
    "                \"description\": \"AMERCO COM\",\n",
    "                \"symbol\": \"UHAL\",\n",
    "                \"quantity\": 30.00,\n",
    "                \"market_value\": 6094.50,\n",
    "                \"total_cost_basis\": 4149.75\n",
    "                }\n",
    "            ]\n",
    "        }\n",
    "    ]\n",
    "}\n",
    "\"\"\""
   ]
  },
  {
   "cell_type": "code",
   "execution_count": 40,
   "metadata": {},
   "outputs": [],
   "source": [
    "test_filepath = r'C:\\Users\\marco\\Desktop\\panda\\statements\\fidelity-sample-statement.pdf'\n",
    "pdf_document = pymupdf.open(test_filepath)\n",
    "user_text = pdf_document[20].get_text()"
   ]
  },
  {
   "cell_type": "markdown",
   "metadata": {},
   "source": [
    "##### OpenAI"
   ]
  },
  {
   "cell_type": "code",
   "execution_count": 14,
   "metadata": {},
   "outputs": [],
   "source": [
    "from openai import OpenAI\n",
    "\n",
    "client = OpenAI(organization='org-eVEyczFQOXsiXSb1K0yKkpuz')"
   ]
  },
  {
   "cell_type": "code",
   "execution_count": null,
   "metadata": {},
   "outputs": [],
   "source": [
    "# Make a request to the OpenAI API\n",
    "response = client.chat.completions.create(\n",
    "    model=\"gpt-3.5-turbo\",\n",
    "    messages=[\n",
    "        {\"role\": \"system\", \"content\": system_prompt},\n",
    "        {\"role\": \"user\", \"content\": user_text}\n",
    "    ]\n",
    ")\n",
    "\n",
    "# Extract and return the JSON response from the model\n",
    "response['choices'][0]['message']['content']"
   ]
  },
  {
   "cell_type": "markdown",
   "metadata": {},
   "source": [
    "##### Google"
   ]
  },
  {
   "cell_type": "code",
   "execution_count": 6,
   "metadata": {},
   "outputs": [
    {
     "name": "stderr",
     "output_type": "stream",
     "text": [
      "c:\\Users\\marco\\AppData\\Local\\Programs\\Python\\Python311\\Lib\\site-packages\\tqdm\\auto.py:21: TqdmWarning: IProgress not found. Please update jupyter and ipywidgets. See https://ipywidgets.readthedocs.io/en/stable/user_install.html\n",
      "  from .autonotebook import tqdm as notebook_tqdm\n"
     ]
    }
   ],
   "source": [
    "import google.generativeai as genai\n",
    "from dotenv import load_dotenv\n",
    "import os\n",
    "import json"
   ]
  },
  {
   "cell_type": "code",
   "execution_count": 7,
   "metadata": {},
   "outputs": [],
   "source": [
    "load_dotenv()\n",
    "api_key = os.getenv('GOOGLE_API_KEY')\n",
    "genai.configure(api_key=api_key)\n",
    "\n",
    "# see https://ai.google.dev/api/python/google/generativeai/GenerativeModel\n",
    "generation_config = {\n",
    "  'response_mime_type': 'application/json',\n",
    "}\n",
    "\n",
    "model = genai.GenerativeModel(\n",
    "  model_name=\"gemini-1.5-flash\",\n",
    "  generation_config=generation_config,\n",
    "  system_instruction=system_prompt\n",
    ")\n",
    "\n",
    "def extract_holdings(text):\n",
    "    response = model.generate_content(text)\n",
    "    return json.loads(response.text)"
   ]
  },
  {
   "cell_type": "code",
   "execution_count": 8,
   "metadata": {},
   "outputs": [],
   "source": [
    "test_filepath = r\"C:\\Users\\marco\\Downloads\\hui_statement_may.pdf\"\n",
    "statement_text = convert_pdf_to_text(test_filepath, 'holdings')\n",
    "\n",
    "output = extract_holdings(statement_text)"
   ]
  },
  {
   "cell_type": "code",
   "execution_count": 9,
   "metadata": {},
   "outputs": [
    {
     "data": {
      "text/plain": [
       "{'statement_date': '2024-05-31',\n",
       " 'accounts': [{'account_number': '242-744213',\n",
       "   'holdings': [{'description': 'FIDELITY GOVERNMENT MONEY MARKET',\n",
       "     'symbol': 'SPAXX',\n",
       "     'quantity': '128.550',\n",
       "     'market_value': '128.55',\n",
       "     'total_cost_basis': 'NA'},\n",
       "    {'description': 'FIDELITY 500 INDEX FUND',\n",
       "     'symbol': 'FXAIX',\n",
       "     'quantity': '5.787',\n",
       "     'market_value': '1062.55',\n",
       "     'total_cost_basis': '912.72'},\n",
       "    {'description': 'MONSTER BEVERAGE CORP NEW COM FROM CUSIP 61174X109',\n",
       "     'symbol': 'NA',\n",
       "     'quantity': '97.000',\n",
       "     'market_value': '5036.24',\n",
       "     'total_cost_basis': '4971.74'}]},\n",
       "  {'account_number': '243-753451',\n",
       "   'holdings': [{'description': 'FIDELITY GOVERNMENT MONEY MARKET',\n",
       "     'symbol': 'SPAXX',\n",
       "     'quantity': '69.650',\n",
       "     'market_value': '69.65',\n",
       "     'total_cost_basis': 'NA'},\n",
       "    {'description': 'FIDELITY 500 INDEX FUND',\n",
       "     'symbol': 'FXAIX',\n",
       "     'quantity': '9.125',\n",
       "     'market_value': '1675.44',\n",
       "     'total_cost_basis': '1500.00'},\n",
       "    {'description': 'FIDELITY MONEY MARKET',\n",
       "     'symbol': 'SPRXX',\n",
       "     'quantity': '3.300',\n",
       "     'market_value': '3.30',\n",
       "     'total_cost_basis': 'NA'},\n",
       "    {'description': 'ISHARES TR RUS MID CAP ETF',\n",
       "     'symbol': 'IWR',\n",
       "     'quantity': '5.411',\n",
       "     'market_value': '443.21',\n",
       "     'total_cost_basis': '399.93'},\n",
       "    {'description': 'ISHARES TRUST CORE DIVID GWTH',\n",
       "     'symbol': 'DGRO',\n",
       "     'quantity': '5.755',\n",
       "     'market_value': '331.43',\n",
       "     'total_cost_basis': '299.99'},\n",
       "    {'description': 'SPDR PORTFOLIO EMERGING MARKETS ETF',\n",
       "     'symbol': 'SPEM',\n",
       "     'quantity': '14.484',\n",
       "     'market_value': '540.25',\n",
       "     'total_cost_basis': '499.99'},\n",
       "    {'description': 'VANGUARD MEGA CAP GROWTH INDEX FUND',\n",
       "     'symbol': 'MGK',\n",
       "     'quantity': '1.184',\n",
       "     'market_value': '346.37',\n",
       "     'total_cost_basis': '299.83'},\n",
       "    {'description': 'VANGUARD INDEX FUNDS S&P 500 ETF USD',\n",
       "     'symbol': 'VOO',\n",
       "     'quantity': '2.148',\n",
       "     'market_value': '1040.96',\n",
       "     'total_cost_basis': '999.66'},\n",
       "    {'description': 'KRANESHARES TRUST CALIFORNIA CARB',\n",
       "     'symbol': 'KCCA',\n",
       "     'quantity': '32.991',\n",
       "     'market_value': '929.02',\n",
       "     'total_cost_basis': '999.98'},\n",
       "    {'description': 'APPLE INC',\n",
       "     'symbol': 'AAPL',\n",
       "     'quantity': '3.000',\n",
       "     'market_value': '576.75',\n",
       "     'total_cost_basis': '540.24'},\n",
       "    {'description': 'LIBERTY MEDIA CORP DEL COM LBTY ONE S A',\n",
       "     'symbol': 'FWONA',\n",
       "     'quantity': '4.797',\n",
       "     'market_value': '328.16',\n",
       "     'total_cost_basis': '304.99'},\n",
       "    {'description': 'TAIWAN SEMICONDUCTOR MANUFACTURING SPON ADS EACH REP 5 ORD TWD10',\n",
       "     'symbol': 'TSM',\n",
       "     'quantity': '1.000',\n",
       "     'market_value': '151.04',\n",
       "     'total_cost_basis': '140.00'}]}]}"
      ]
     },
     "execution_count": 9,
     "metadata": {},
     "output_type": "execute_result"
    }
   ],
   "source": [
    "output"
   ]
  },
  {
   "cell_type": "markdown",
   "metadata": {},
   "source": [
    "## Convert json to excel"
   ]
  },
  {
   "cell_type": "code",
   "execution_count": 10,
   "metadata": {},
   "outputs": [],
   "source": [
    "import pandas as pd \n",
    "\n",
    "def json_to_dfs(json_data):\n",
    "    statement_date = json_data['statement_date']\n",
    "    accounts = json_data['accounts']\n",
    "    \n",
    "    dataframes = {}\n",
    "    \n",
    "    for account in accounts:\n",
    "        account_number = account['account_number']\n",
    "        holdings = account['holdings']\n",
    "        \n",
    "        # Create a DataFrame for this account\n",
    "        df = pd.DataFrame(holdings)\n",
    "        df['statement_date'] = statement_date\n",
    "        df['account_number'] = account_number\n",
    "        \n",
    "        # Store the DataFrame in the dictionary with the account number as the key\n",
    "        dataframes[account_number] = df\n",
    "    \n",
    "    return dataframes"
   ]
  },
  {
   "cell_type": "code",
   "execution_count": 11,
   "metadata": {},
   "outputs": [],
   "source": [
    "temp = json_to_dfs(output)"
   ]
  },
  {
   "cell_type": "code",
   "execution_count": 26,
   "metadata": {},
   "outputs": [
    {
     "data": {
      "text/html": [
       "<div>\n",
       "<style scoped>\n",
       "    .dataframe tbody tr th:only-of-type {\n",
       "        vertical-align: middle;\n",
       "    }\n",
       "\n",
       "    .dataframe tbody tr th {\n",
       "        vertical-align: top;\n",
       "    }\n",
       "\n",
       "    .dataframe thead th {\n",
       "        text-align: right;\n",
       "    }\n",
       "</style>\n",
       "<table border=\"1\" class=\"dataframe\">\n",
       "  <thead>\n",
       "    <tr style=\"text-align: right;\">\n",
       "      <th></th>\n",
       "      <th>description</th>\n",
       "      <th>symbol</th>\n",
       "      <th>quantity</th>\n",
       "      <th>market_value</th>\n",
       "      <th>total_cost_basis</th>\n",
       "      <th>unrealized_gain_loss</th>\n",
       "      <th>est_annual_income</th>\n",
       "      <th>est_yield</th>\n",
       "      <th>statement_date</th>\n",
       "      <th>account_number</th>\n",
       "    </tr>\n",
       "  </thead>\n",
       "  <tbody>\n",
       "    <tr>\n",
       "      <th>0</th>\n",
       "      <td>NH Portfolio 2015</td>\n",
       "      <td>NA</td>\n",
       "      <td>1,200.291</td>\n",
       "      <td>21221.14</td>\n",
       "      <td>NA</td>\n",
       "      <td>NA</td>\n",
       "      <td>NA</td>\n",
       "      <td>NA</td>\n",
       "      <td>2015-07-31</td>\n",
       "      <td>333-333333</td>\n",
       "    </tr>\n",
       "    <tr>\n",
       "      <th>1</th>\n",
       "      <td>NH Moderate Growth Port</td>\n",
       "      <td>NA</td>\n",
       "      <td>463.301</td>\n",
       "      <td>7236.76</td>\n",
       "      <td>NA</td>\n",
       "      <td>NA</td>\n",
       "      <td>NA</td>\n",
       "      <td>NA</td>\n",
       "      <td>2015-07-31</td>\n",
       "      <td>333-333333</td>\n",
       "    </tr>\n",
       "  </tbody>\n",
       "</table>\n",
       "</div>"
      ],
      "text/plain": [
       "               description symbol   quantity  market_value total_cost_basis  \\\n",
       "0        NH Portfolio 2015     NA  1,200.291      21221.14               NA   \n",
       "1  NH Moderate Growth Port     NA    463.301       7236.76               NA   \n",
       "\n",
       "  unrealized_gain_loss est_annual_income est_yield statement_date  \\\n",
       "0                   NA                NA        NA     2015-07-31   \n",
       "1                   NA                NA        NA     2015-07-31   \n",
       "\n",
       "  account_number  \n",
       "0     333-333333  \n",
       "1     333-333333  "
      ]
     },
     "execution_count": 26,
     "metadata": {},
     "output_type": "execute_result"
    }
   ],
   "source": [
    "temp['333-333333']"
   ]
  },
  {
   "cell_type": "markdown",
   "metadata": {},
   "source": [
    "## Yfinance"
   ]
  },
  {
   "cell_type": "code",
   "execution_count": 13,
   "metadata": {},
   "outputs": [],
   "source": [
    "import yfinance as yf\n",
    "import pandas as pd"
   ]
  },
  {
   "cell_type": "code",
   "execution_count": 15,
   "metadata": {},
   "outputs": [
    {
     "data": {
      "text/html": [
       "<div>\n",
       "<style scoped>\n",
       "    .dataframe tbody tr th:only-of-type {\n",
       "        vertical-align: middle;\n",
       "    }\n",
       "\n",
       "    .dataframe tbody tr th {\n",
       "        vertical-align: top;\n",
       "    }\n",
       "\n",
       "    .dataframe thead th {\n",
       "        text-align: right;\n",
       "    }\n",
       "</style>\n",
       "<table border=\"1\" class=\"dataframe\">\n",
       "  <thead>\n",
       "    <tr style=\"text-align: right;\">\n",
       "      <th></th>\n",
       "      <th>symbol</th>\n",
       "    </tr>\n",
       "  </thead>\n",
       "  <tbody>\n",
       "    <tr>\n",
       "      <th>0</th>\n",
       "      <td>AAPL</td>\n",
       "    </tr>\n",
       "    <tr>\n",
       "      <th>1</th>\n",
       "      <td>MSFT</td>\n",
       "    </tr>\n",
       "    <tr>\n",
       "      <th>2</th>\n",
       "      <td>AAPL</td>\n",
       "    </tr>\n",
       "    <tr>\n",
       "      <th>3</th>\n",
       "      <td>GOOGL</td>\n",
       "    </tr>\n",
       "  </tbody>\n",
       "</table>\n",
       "</div>"
      ],
      "text/plain": [
       "  symbol\n",
       "0   AAPL\n",
       "1   MSFT\n",
       "2   AAPL\n",
       "3  GOOGL"
      ]
     },
     "execution_count": 15,
     "metadata": {},
     "output_type": "execute_result"
    }
   ],
   "source": [
    "tickers_df = pd.DataFrame({\n",
    "    'symbol': ['AAPL', 'MSFT', 'AAPL', 'GOOGL']\n",
    "})\n",
    "\n",
    "tickers_df"
   ]
  },
  {
   "cell_type": "code",
   "execution_count": 25,
   "metadata": {},
   "outputs": [],
   "source": [
    "def yfinance_enrich(df):\n",
    "    symbols = df['symbol'].unique().tolist()\n",
    "    prices_table = yf.download(symbols, period='1d')\n",
    "    closing_prices = prices_table['Adj Close'].iloc[0]\n",
    "    df['last_close_price'] = df['symbol'].map(closing_prices)\n",
    "    return df"
   ]
  },
  {
   "cell_type": "code",
   "execution_count": 16,
   "metadata": {},
   "outputs": [
    {
     "name": "stdout",
     "output_type": "stream",
     "text": [
      "[*********************100%%**********************]  3 of 3 completed\n"
     ]
    },
    {
     "data": {
      "text/html": [
       "<div>\n",
       "<style scoped>\n",
       "    .dataframe tbody tr th:only-of-type {\n",
       "        vertical-align: middle;\n",
       "    }\n",
       "\n",
       "    .dataframe tbody tr th {\n",
       "        vertical-align: top;\n",
       "    }\n",
       "\n",
       "    .dataframe thead th {\n",
       "        text-align: right;\n",
       "    }\n",
       "</style>\n",
       "<table border=\"1\" class=\"dataframe\">\n",
       "  <thead>\n",
       "    <tr style=\"text-align: right;\">\n",
       "      <th></th>\n",
       "      <th>symbol</th>\n",
       "      <th>last_close_price</th>\n",
       "    </tr>\n",
       "  </thead>\n",
       "  <tbody>\n",
       "    <tr>\n",
       "      <th>0</th>\n",
       "      <td>AAPL</td>\n",
       "      <td>230.539993</td>\n",
       "    </tr>\n",
       "    <tr>\n",
       "      <th>1</th>\n",
       "      <td>MSFT</td>\n",
       "      <td>453.549988</td>\n",
       "    </tr>\n",
       "    <tr>\n",
       "      <th>2</th>\n",
       "      <td>AAPL</td>\n",
       "      <td>230.539993</td>\n",
       "    </tr>\n",
       "    <tr>\n",
       "      <th>3</th>\n",
       "      <td>GOOGL</td>\n",
       "      <td>185.070007</td>\n",
       "    </tr>\n",
       "  </tbody>\n",
       "</table>\n",
       "</div>"
      ],
      "text/plain": [
       "  symbol  last_close_price\n",
       "0   AAPL        230.539993\n",
       "1   MSFT        453.549988\n",
       "2   AAPL        230.539993\n",
       "3  GOOGL        185.070007"
      ]
     },
     "execution_count": 16,
     "metadata": {},
     "output_type": "execute_result"
    }
   ],
   "source": [
    "yfinance_enrich(tickers_df)\n",
    "tickers_df"
   ]
  },
  {
   "cell_type": "code",
   "execution_count": 29,
   "metadata": {},
   "outputs": [
    {
     "data": {
      "text/html": [
       "<div>\n",
       "<style scoped>\n",
       "    .dataframe tbody tr th:only-of-type {\n",
       "        vertical-align: middle;\n",
       "    }\n",
       "\n",
       "    .dataframe tbody tr th {\n",
       "        vertical-align: top;\n",
       "    }\n",
       "\n",
       "    .dataframe thead th {\n",
       "        text-align: right;\n",
       "    }\n",
       "</style>\n",
       "<table border=\"1\" class=\"dataframe\">\n",
       "  <thead>\n",
       "    <tr style=\"text-align: right;\">\n",
       "      <th></th>\n",
       "      <th>description</th>\n",
       "      <th>symbol</th>\n",
       "      <th>quantity</th>\n",
       "      <th>market_value</th>\n",
       "      <th>total_cost_basis</th>\n",
       "      <th>statement_date</th>\n",
       "      <th>account_number</th>\n",
       "      <th>last_close_price</th>\n",
       "    </tr>\n",
       "  </thead>\n",
       "  <tbody>\n",
       "    <tr>\n",
       "      <th>0</th>\n",
       "      <td>FIDELITY GOVERNMENT MONEY MARKET</td>\n",
       "      <td>SPAXX</td>\n",
       "      <td>128.550</td>\n",
       "      <td>128.55</td>\n",
       "      <td>NA</td>\n",
       "      <td>2024-05-31</td>\n",
       "      <td>242-744213</td>\n",
       "      <td>1.000000</td>\n",
       "    </tr>\n",
       "    <tr>\n",
       "      <th>1</th>\n",
       "      <td>FIDELITY 500 INDEX FUND</td>\n",
       "      <td>FXAIX</td>\n",
       "      <td>5.787</td>\n",
       "      <td>1062.55</td>\n",
       "      <td>912.72</td>\n",
       "      <td>2024-05-31</td>\n",
       "      <td>242-744213</td>\n",
       "      <td>195.039993</td>\n",
       "    </tr>\n",
       "    <tr>\n",
       "      <th>2</th>\n",
       "      <td>MONSTER BEVERAGE CORP NEW COM FROM CUSIP 61174...</td>\n",
       "      <td>NA</td>\n",
       "      <td>97.000</td>\n",
       "      <td>5036.24</td>\n",
       "      <td>4971.74</td>\n",
       "      <td>2024-05-31</td>\n",
       "      <td>242-744213</td>\n",
       "      <td>0.410000</td>\n",
       "    </tr>\n",
       "  </tbody>\n",
       "</table>\n",
       "</div>"
      ],
      "text/plain": [
       "                                         description symbol quantity  \\\n",
       "0                   FIDELITY GOVERNMENT MONEY MARKET  SPAXX  128.550   \n",
       "1                            FIDELITY 500 INDEX FUND  FXAIX    5.787   \n",
       "2  MONSTER BEVERAGE CORP NEW COM FROM CUSIP 61174...     NA   97.000   \n",
       "\n",
       "  market_value total_cost_basis statement_date account_number  \\\n",
       "0       128.55               NA     2024-05-31     242-744213   \n",
       "1      1062.55           912.72     2024-05-31     242-744213   \n",
       "2      5036.24          4971.74     2024-05-31     242-744213   \n",
       "\n",
       "   last_close_price  \n",
       "0          1.000000  \n",
       "1        195.039993  \n",
       "2          0.410000  "
      ]
     },
     "execution_count": 29,
     "metadata": {},
     "output_type": "execute_result"
    }
   ],
   "source": [
    "temp['242-744213']\n",
    "# temp['243-753451']"
   ]
  },
  {
   "cell_type": "code",
   "execution_count": 30,
   "metadata": {},
   "outputs": [
    {
     "name": "stdout",
     "output_type": "stream",
     "text": [
      "[*********************100%%**********************]  3 of 3 completed\n",
      "[*********************100%%**********************]  12 of 12 completed\n"
     ]
    }
   ],
   "source": [
    "# Applying the function to each DataFrame in the dictionary using dictionary comprehension\n",
    "dataframes = {account_number: yfinance_enrich(df) for account_number, df in temp.items()}"
   ]
  }
 ],
 "metadata": {
  "kernelspec": {
   "display_name": "Python 3",
   "language": "python",
   "name": "python3"
  },
  "language_info": {
   "codemirror_mode": {
    "name": "ipython",
    "version": 3
   },
   "file_extension": ".py",
   "mimetype": "text/x-python",
   "name": "python",
   "nbconvert_exporter": "python",
   "pygments_lexer": "ipython3",
   "version": "3.11.5"
  }
 },
 "nbformat": 4,
 "nbformat_minor": 2
}
